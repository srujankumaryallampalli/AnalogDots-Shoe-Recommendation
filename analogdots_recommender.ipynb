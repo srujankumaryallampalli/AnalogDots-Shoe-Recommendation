{
 "cells": [
  {
   "cell_type": "markdown",
   "id": "cbaefb9f",
   "metadata": {},
   "source": [
    "# AnalogDots Shoe Recommendation & Personalized Services"
   ]
  },
  {
   "cell_type": "code",
   "execution_count": 62,
   "id": "abb751ae",
   "metadata": {},
   "outputs": [],
   "source": [
    "import pandas as pd\n",
    "import numpy as np\n",
    "from sklearn.metrics.pairwise import cosine_similarity\n",
    "from sklearn.feature_extraction.text import TfidfVectorizer"
   ]
  },
  {
   "cell_type": "markdown",
   "id": "7015bb6d",
   "metadata": {},
   "source": [
    "## Load Data"
   ]
  },
  {
   "cell_type": "code",
   "execution_count": 63,
   "id": "0f2f717a",
   "metadata": {},
   "outputs": [],
   "source": [
    "interactions = pd.read_csv(\"D:/Analogdots_project/New/user_interactions.csv\")\n",
    "users = pd.read_csv(\"D:/Analogdots_project/New/user_profiles.csv\")\n",
    "shoes = pd.read_csv(\"D:/Analogdots_project/New/shoe_catalog.csv\")"
   ]
  },
  {
   "cell_type": "markdown",
   "id": "b6420d37",
   "metadata": {},
   "source": [
    "## Prepare Content-Based Vectors"
   ]
  },
  {
   "cell_type": "code",
   "execution_count": 64,
   "id": "7e30c881",
   "metadata": {},
   "outputs": [],
   "source": [
    "shoes[\"content\"] = shoes[\"type\"] + \" \" + shoes[\"material\"] + \" \" + shoes[\"brand\"]\n",
    "vectorizer = TfidfVectorizer()\n",
    "tfidf_matrix = vectorizer.fit_transform(shoes[\"content\"])\n",
    "similarity_matrix = cosine_similarity(tfidf_matrix)"
   ]
  },
  {
   "cell_type": "markdown",
   "id": "1ba73271",
   "metadata": {},
   "source": [
    "## Shoe Recommendation Function"
   ]
  },
  {
   "cell_type": "code",
   "execution_count": 65,
   "id": "db44483c",
   "metadata": {},
   "outputs": [],
   "source": [
    "def recommend_shoes(user_id, top_n=5):\n",
    "    user_history = interactions[\n",
    "        (interactions.user_id == user_id) & \n",
    "        (interactions.interaction_type.isin([\"view\", \"purchase\"]))\n",
    "    ]\n",
    "    \n",
    "    if user_history.empty:\n",
    "        return shoes.sample(top_n)[[\"shoe_id\", \"name\"]]\n",
    "\n",
    "    indices = [shoes[shoes.shoe_id == sid].index[0] \n",
    "               for sid in user_history[\"shoe_id\"].unique() if sid in shoes.shoe_id.values]\n",
    "\n",
    "    scores = similarity_matrix[indices].mean(axis=0)\n",
    "    top_indices = np.argsort(scores)[-top_n:][::-1]\n",
    "    \n",
    "    return shoes.iloc[top_indices][[\"shoe_id\", \"name\"]]\n"
   ]
  },
  {
   "cell_type": "code",
   "execution_count": 66,
   "id": "c1416848",
   "metadata": {},
   "outputs": [
    {
     "data": {
      "application/vnd.microsoft.datawrangler.viewer.v0+json": {
       "columns": [
        {
         "name": "index",
         "rawType": "int64",
         "type": "integer"
        },
        {
         "name": "shoe_id",
         "rawType": "object",
         "type": "string"
        },
        {
         "name": "name",
         "rawType": "object",
         "type": "string"
        }
       ],
       "ref": "3e524d98-cb6a-4911-a3f4-f0fad5b4a01b",
       "rows": [
        [
         "16",
         "S17",
         "Nike Formal"
        ],
        [
         "55",
         "S56",
         "Nike Formal"
        ],
        [
         "60",
         "S61",
         "Nike Running"
        ],
        [
         "6",
         "S7",
         "Adidas Formal"
        ],
        [
         "10",
         "S11",
         "Skechers Formal"
        ]
       ],
       "shape": {
        "columns": 2,
        "rows": 5
       }
      },
      "text/html": [
       "<div>\n",
       "<style scoped>\n",
       "    .dataframe tbody tr th:only-of-type {\n",
       "        vertical-align: middle;\n",
       "    }\n",
       "\n",
       "    .dataframe tbody tr th {\n",
       "        vertical-align: top;\n",
       "    }\n",
       "\n",
       "    .dataframe thead th {\n",
       "        text-align: right;\n",
       "    }\n",
       "</style>\n",
       "<table border=\"1\" class=\"dataframe\">\n",
       "  <thead>\n",
       "    <tr style=\"text-align: right;\">\n",
       "      <th></th>\n",
       "      <th>shoe_id</th>\n",
       "      <th>name</th>\n",
       "    </tr>\n",
       "  </thead>\n",
       "  <tbody>\n",
       "    <tr>\n",
       "      <th>16</th>\n",
       "      <td>S17</td>\n",
       "      <td>Nike Formal</td>\n",
       "    </tr>\n",
       "    <tr>\n",
       "      <th>55</th>\n",
       "      <td>S56</td>\n",
       "      <td>Nike Formal</td>\n",
       "    </tr>\n",
       "    <tr>\n",
       "      <th>60</th>\n",
       "      <td>S61</td>\n",
       "      <td>Nike Running</td>\n",
       "    </tr>\n",
       "    <tr>\n",
       "      <th>6</th>\n",
       "      <td>S7</td>\n",
       "      <td>Adidas Formal</td>\n",
       "    </tr>\n",
       "    <tr>\n",
       "      <th>10</th>\n",
       "      <td>S11</td>\n",
       "      <td>Skechers Formal</td>\n",
       "    </tr>\n",
       "  </tbody>\n",
       "</table>\n",
       "</div>"
      ],
      "text/plain": [
       "   shoe_id             name\n",
       "16     S17      Nike Formal\n",
       "55     S56      Nike Formal\n",
       "60     S61     Nike Running\n",
       "6       S7    Adidas Formal\n",
       "10     S11  Skechers Formal"
      ]
     },
     "execution_count": 66,
     "metadata": {},
     "output_type": "execute_result"
    }
   ],
   "source": [
    "recommend_shoes(\"U1\")"
   ]
  },
  {
   "cell_type": "markdown",
   "id": "dfbaf678",
   "metadata": {},
   "source": [
    "## Personalized Service Logic"
   ]
  },
  {
   "cell_type": "code",
   "execution_count": 67,
   "id": "5a4531cf",
   "metadata": {},
   "outputs": [],
   "source": [
    "def care_reminder(user_id):\n",
    "    usage_count = interactions[(interactions.user_id == user_id) & \n",
    "                               (interactions.interaction_type == 'view')][\"shoe_id\"].value_counts()\n",
    "    reminders = []\n",
    "    for shoe_id, count in usage_count.items():\n",
    "        if count > 2:\n",
    "            care_method = shoes[shoes.shoe_id == shoe_id]['care_requirements'].values[0]\n",
    "            reminders.append(f\"Reminder: It's time to care for shoe {shoe_id} using {care_method}.\")\n",
    "    return reminders"
   ]
  },
  {
   "cell_type": "code",
   "execution_count": 68,
   "id": "94d8464a",
   "metadata": {},
   "outputs": [],
   "source": [
    "# Define care tips based on shoe category keywords\n",
    "care_tips = {\n",
    "    \"leather\": \"Use a leather conditioner once a month and avoid water exposure.\",\n",
    "    \"sports\": \"Air-dry after use and clean with a soft brush.\",\n",
    "    \"casual\": \"Wipe with a damp cloth and avoid machine washing.\",\n",
    "    \"formal\": \"Polish regularly and store in a dust bag.\",\n",
    "    \"sneakers\": \"Use sneaker cleaner and avoid direct sunlight.\",\n",
    "    \"boots\": \"Use waterproof spray and remove dirt after each use.\"\n",
    "}\n"
   ]
  },
  {
   "cell_type": "code",
   "execution_count": 69,
   "id": "77a500d9",
   "metadata": {},
   "outputs": [],
   "source": [
    "def care_reminder(user_id):\n",
    "    # Get shoes purchased by the user\n",
    "    purchased_shoes = interactions[\n",
    "        (interactions.user_id == user_id) &\n",
    "        (interactions.interaction_type == \"purchase\")\n",
    "    ][\"shoe_id\"].unique()\n",
    "    \n",
    "    if len(purchased_shoes) == 0:\n",
    "        return [\"No purchases found for this user.\"]\n",
    "\n",
    "    tips = []\n",
    "    for shoe_id in purchased_shoes:\n",
    "        shoe_info = shoes[shoes.shoe_id == shoe_id]\n",
    "        if shoe_info.empty:\n",
    "            continue\n",
    "        desc = shoe_info.iloc[0][\"type\"].lower()\n",
    "        \n",
    "        for keyword, tip in care_tips.items():\n",
    "            if keyword.lower() in desc:\n",
    "                tips.append(f\"Shoe ID {shoe_id}: {tip}\")\n",
    "                break\n",
    "\n",
    "    return tips if tips else [\"No matching care tips found for user's shoes.\"]\n"
   ]
  },
  {
   "cell_type": "code",
   "execution_count": 70,
   "id": "37ad06f1",
   "metadata": {},
   "outputs": [
    {
     "data": {
      "text/plain": [
       "['Shoe ID S8: Use waterproof spray and remove dirt after each use.',\n",
       " 'Shoe ID S17: Use waterproof spray and remove dirt after each use.']"
      ]
     },
     "execution_count": 70,
     "metadata": {},
     "output_type": "execute_result"
    }
   ],
   "source": [
    "care_reminder(\"U1\")"
   ]
  },
  {
   "cell_type": "code",
   "execution_count": 71,
   "id": "85de57d8",
   "metadata": {},
   "outputs": [],
   "source": [
    "import random\n",
    "from datetime import datetime, timedelta\n",
    "\n",
    "def random_past_date(months_ago=6):\n",
    "    days_ago = random.randint(180, 365)  # between 6 months to 1 year\n",
    "    return (datetime.now() - timedelta(days=days_ago)).strftime(\"%Y-%m-%d\")\n",
    "\n",
    "# Apply to your interactions DataFrame\n",
    "interactions.loc[interactions[\"interaction_type\"] == \"purchase\", \"timestamp\"] = \\\n",
    "    [random_past_date() for _ in range(len(interactions[interactions[\"interaction_type\"] == \"purchase\"]))]\n"
   ]
  },
  {
   "cell_type": "code",
   "execution_count": 72,
   "id": "b4b75e4b",
   "metadata": {},
   "outputs": [],
   "source": [
    "from datetime import datetime, timedelta\n",
    "\n",
    "def replacement_suggestion(user_id):\n",
    "    user_purchases = interactions[\n",
    "        (interactions.user_id == user_id) &\n",
    "        (interactions.interaction_type == \"purchase\")\n",
    "    ]\n",
    "\n",
    "    if user_purchases.empty:\n",
    "        return [\"No past purchases found for this user.\"]\n",
    "\n",
    "    suggestions = []\n",
    "    current_date = datetime.now()\n",
    "\n",
    "    for _, row in user_purchases.iterrows():\n",
    "        shoe_id = row[\"shoe_id\"]\n",
    "        date_str = row[\"timestamp\"]  # assuming it's a string like \"2025-01-01\"\n",
    "        try:\n",
    "            purchase_date = datetime.strptime(date_str, \"%Y-%m-%d\")\n",
    "        except:\n",
    "            continue  # skip if timestamp format is invalid\n",
    "\n",
    "        # Get shoe info\n",
    "        shoe_info = shoes[shoes.shoe_id == shoe_id]\n",
    "        if shoe_info.empty:\n",
    "            continue\n",
    "\n",
    "        price = shoe_info.iloc[0][\"price\"]\n",
    "\n",
    "        # Logic: Replace if shoe is older than 6 months or low price\n",
    "        if (current_date - purchase_date).days > 15 or price < 1500:\n",
    "            suggestions.append(f\"Consider replacing Shoe ID {shoe_id} bought on {date_str} (Price: ₹{price})\")\n",
    "\n",
    "    return suggestions if suggestions else [\"No replacement suggestions needed at the moment.\"]\n"
   ]
  },
  {
   "cell_type": "code",
   "execution_count": 81,
   "id": "e00fb866",
   "metadata": {},
   "outputs": [
    {
     "data": {
      "text/plain": [
       "['Consider replacing Shoe ID S98 bought on 2025-02-06 (Price: ₹3197.55)',\n",
       " 'Consider replacing Shoe ID S58 bought on 2025-01-12 (Price: ₹8797.91)',\n",
       " 'Consider replacing Shoe ID S65 bought on 2024-08-13 (Price: ₹3445.82)']"
      ]
     },
     "execution_count": 81,
     "metadata": {},
     "output_type": "execute_result"
    }
   ],
   "source": [
    "replacement_suggestion(\"U16\")"
   ]
  }
 ],
 "metadata": {
  "kernelspec": {
   "display_name": "base",
   "language": "python",
   "name": "python3"
  },
  "language_info": {
   "codemirror_mode": {
    "name": "ipython",
    "version": 3
   },
   "file_extension": ".py",
   "mimetype": "text/x-python",
   "name": "python",
   "nbconvert_exporter": "python",
   "pygments_lexer": "ipython3",
   "version": "3.12.4"
  }
 },
 "nbformat": 4,
 "nbformat_minor": 5
}
